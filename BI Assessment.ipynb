{
 "cells": [
  {
   "cell_type": "markdown",
   "id": "e6053871",
   "metadata": {},
   "source": [
    "# Gas prices Assessment \n",
    "## Ricardo Letona \n",
    "#### This problem is about making simple plots with the programming language of your choice and telling stories using those plots. For this exercise, you’ll use the GasPrices.csv data set, which contains data from 101 gas stations collected in 2016.\n"
   ]
  },
  {
   "cell_type": "markdown",
   "id": "49428e2d",
   "metadata": {},
   "source": [
    "### Install the libraries to work with dataframes"
   ]
  },
  {
   "cell_type": "code",
   "execution_count": 124,
   "id": "416fd87a",
   "metadata": {
    "collapsed": true
   },
   "outputs": [
    {
     "name": "stdout",
     "output_type": "stream",
     "text": [
      "Requirement already satisfied: pandas in c:\\users\\compu fire\\appdata\\local\\programs\\python\\python311\\lib\\site-packages (2.0.0)\n",
      "Requirement already satisfied: python-dateutil>=2.8.2 in c:\\users\\compu fire\\appdata\\local\\programs\\python\\python311\\lib\\site-packages (from pandas) (2.8.2)\n",
      "Requirement already satisfied: pytz>=2020.1 in c:\\users\\compu fire\\appdata\\local\\programs\\python\\python311\\lib\\site-packages (from pandas) (2023.3)\n",
      "Requirement already satisfied: tzdata>=2022.1 in c:\\users\\compu fire\\appdata\\local\\programs\\python\\python311\\lib\\site-packages (from pandas) (2023.3)\n",
      "Requirement already satisfied: numpy>=1.21.0 in c:\\users\\compu fire\\appdata\\local\\programs\\python\\python311\\lib\\site-packages (from pandas) (1.24.2)\n",
      "Requirement already satisfied: six>=1.5 in c:\\users\\compu fire\\appdata\\local\\programs\\python\\python311\\lib\\site-packages (from python-dateutil>=2.8.2->pandas) (1.16.0)\n"
     ]
    },
    {
     "name": "stderr",
     "output_type": "stream",
     "text": [
      "\n",
      "[notice] A new release of pip available: 22.3.1 -> 23.0.1\n",
      "[notice] To update, run: python.exe -m pip install --upgrade pip\n"
     ]
    },
    {
     "name": "stdout",
     "output_type": "stream",
     "text": [
      "Requirement already satisfied: numpy in c:\\users\\compu fire\\appdata\\local\\programs\\python\\python311\\lib\\site-packages (1.24.2)\n"
     ]
    },
    {
     "name": "stderr",
     "output_type": "stream",
     "text": [
      "\n",
      "[notice] A new release of pip available: 22.3.1 -> 23.0.1\n",
      "[notice] To update, run: python.exe -m pip install --upgrade pip\n"
     ]
    },
    {
     "name": "stdout",
     "output_type": "stream",
     "text": [
      "Collecting scikit-learn\n",
      "  Downloading scikit_learn-1.2.2-cp311-cp311-win_amd64.whl (8.3 MB)\n",
      "     ---------------------------------------- 8.3/8.3 MB 7.4 MB/s eta 0:00:00\n",
      "Requirement already satisfied: numpy>=1.17.3 in c:\\users\\compu fire\\appdata\\local\\programs\\python\\python311\\lib\\site-packages (from scikit-learn) (1.24.2)\n",
      "Collecting scipy>=1.3.2\n",
      "  Downloading scipy-1.10.1-cp311-cp311-win_amd64.whl (42.2 MB)\n",
      "     ---------------------------------------- 42.2/42.2 MB 9.3 MB/s eta 0:00:00\n",
      "Collecting joblib>=1.1.1\n",
      "  Downloading joblib-1.2.0-py3-none-any.whl (297 kB)\n",
      "     -------------------------------------- 298.0/298.0 kB 9.3 MB/s eta 0:00:00\n",
      "Collecting threadpoolctl>=2.0.0\n",
      "  Downloading threadpoolctl-3.1.0-py3-none-any.whl (14 kB)\n",
      "Installing collected packages: threadpoolctl, scipy, joblib, scikit-learn\n",
      "Successfully installed joblib-1.2.0 scikit-learn-1.2.2 scipy-1.10.1 threadpoolctl-3.1.0\n"
     ]
    },
    {
     "name": "stderr",
     "output_type": "stream",
     "text": [
      "\n",
      "[notice] A new release of pip available: 22.3.1 -> 23.0.1\n",
      "[notice] To update, run: python.exe -m pip install --upgrade pip\n"
     ]
    },
    {
     "name": "stdout",
     "output_type": "stream",
     "text": [
      "Requirement already satisfied: scipy in c:\\users\\compu fire\\appdata\\local\\programs\\python\\python311\\lib\\site-packages (1.10.1)\n",
      "Requirement already satisfied: numpy<1.27.0,>=1.19.5 in c:\\users\\compu fire\\appdata\\local\\programs\\python\\python311\\lib\\site-packages (from scipy) (1.24.2)\n"
     ]
    },
    {
     "name": "stderr",
     "output_type": "stream",
     "text": [
      "\n",
      "[notice] A new release of pip available: 22.3.1 -> 23.0.1\n",
      "[notice] To update, run: python.exe -m pip install --upgrade pip\n"
     ]
    }
   ],
   "source": [
    "!pip install pandas\n",
    "!pip install numpy\n",
    "!pip install scikit-learn\n",
    "!pip install scipy"
   ]
  },
  {
   "cell_type": "markdown",
   "id": "ac6f975f",
   "metadata": {},
   "source": [
    "### Install the libraries to generate the plots"
   ]
  },
  {
   "cell_type": "code",
   "execution_count": 18,
   "id": "3ca8e65f",
   "metadata": {
    "collapsed": true
   },
   "outputs": [
    {
     "name": "stdout",
     "output_type": "stream",
     "text": [
      "Requirement already satisfied: matplotlib in c:\\users\\compu fire\\appdata\\local\\programs\\python\\python311\\lib\\site-packages (3.7.1)\n",
      "Requirement already satisfied: contourpy>=1.0.1 in c:\\users\\compu fire\\appdata\\local\\programs\\python\\python311\\lib\\site-packages (from matplotlib) (1.0.7)\n",
      "Requirement already satisfied: cycler>=0.10 in c:\\users\\compu fire\\appdata\\local\\programs\\python\\python311\\lib\\site-packages (from matplotlib) (0.11.0)\n",
      "Requirement already satisfied: fonttools>=4.22.0 in c:\\users\\compu fire\\appdata\\local\\programs\\python\\python311\\lib\\site-packages (from matplotlib) (4.39.3)\n",
      "Requirement already satisfied: kiwisolver>=1.0.1 in c:\\users\\compu fire\\appdata\\local\\programs\\python\\python311\\lib\\site-packages (from matplotlib) (1.4.4)\n",
      "Requirement already satisfied: numpy>=1.20 in c:\\users\\compu fire\\appdata\\local\\programs\\python\\python311\\lib\\site-packages (from matplotlib) (1.24.2)\n",
      "Requirement already satisfied: packaging>=20.0 in c:\\users\\compu fire\\appdata\\local\\programs\\python\\python311\\lib\\site-packages (from matplotlib) (23.0)\n",
      "Requirement already satisfied: pillow>=6.2.0 in c:\\users\\compu fire\\appdata\\local\\programs\\python\\python311\\lib\\site-packages (from matplotlib) (9.5.0)\n",
      "Requirement already satisfied: pyparsing>=2.3.1 in c:\\users\\compu fire\\appdata\\local\\programs\\python\\python311\\lib\\site-packages (from matplotlib) (3.0.9)\n",
      "Requirement already satisfied: python-dateutil>=2.7 in c:\\users\\compu fire\\appdata\\local\\programs\\python\\python311\\lib\\site-packages (from matplotlib) (2.8.2)\n",
      "Requirement already satisfied: six>=1.5 in c:\\users\\compu fire\\appdata\\local\\programs\\python\\python311\\lib\\site-packages (from python-dateutil>=2.7->matplotlib) (1.16.0)\n"
     ]
    },
    {
     "name": "stderr",
     "output_type": "stream",
     "text": [
      "\n",
      "[notice] A new release of pip available: 22.3.1 -> 23.0.1\n",
      "[notice] To update, run: python.exe -m pip install --upgrade pip\n",
      "ERROR: Could not find a version that satisfies the requirement matplotlib.pyplot (from versions: none)\n",
      "ERROR: No matching distribution found for matplotlib.pyplot\n",
      "\n",
      "[notice] A new release of pip available: 22.3.1 -> 23.0.1\n",
      "[notice] To update, run: python.exe -m pip install --upgrade pip\n"
     ]
    },
    {
     "name": "stdout",
     "output_type": "stream",
     "text": [
      "Collecting seaborn\n",
      "  Downloading seaborn-0.12.2-py3-none-any.whl (293 kB)\n",
      "     -------------------------------------- 293.3/293.3 kB 1.8 MB/s eta 0:00:00\n",
      "Requirement already satisfied: numpy!=1.24.0,>=1.17 in c:\\users\\compu fire\\appdata\\local\\programs\\python\\python311\\lib\\site-packages (from seaborn) (1.24.2)\n",
      "Requirement already satisfied: pandas>=0.25 in c:\\users\\compu fire\\appdata\\local\\programs\\python\\python311\\lib\\site-packages (from seaborn) (2.0.0)\n",
      "Requirement already satisfied: matplotlib!=3.6.1,>=3.1 in c:\\users\\compu fire\\appdata\\local\\programs\\python\\python311\\lib\\site-packages (from seaborn) (3.7.1)\n",
      "Requirement already satisfied: contourpy>=1.0.1 in c:\\users\\compu fire\\appdata\\local\\programs\\python\\python311\\lib\\site-packages (from matplotlib!=3.6.1,>=3.1->seaborn) (1.0.7)\n",
      "Requirement already satisfied: cycler>=0.10 in c:\\users\\compu fire\\appdata\\local\\programs\\python\\python311\\lib\\site-packages (from matplotlib!=3.6.1,>=3.1->seaborn) (0.11.0)\n",
      "Requirement already satisfied: fonttools>=4.22.0 in c:\\users\\compu fire\\appdata\\local\\programs\\python\\python311\\lib\\site-packages (from matplotlib!=3.6.1,>=3.1->seaborn) (4.39.3)\n",
      "Requirement already satisfied: kiwisolver>=1.0.1 in c:\\users\\compu fire\\appdata\\local\\programs\\python\\python311\\lib\\site-packages (from matplotlib!=3.6.1,>=3.1->seaborn) (1.4.4)\n",
      "Requirement already satisfied: packaging>=20.0 in c:\\users\\compu fire\\appdata\\local\\programs\\python\\python311\\lib\\site-packages (from matplotlib!=3.6.1,>=3.1->seaborn) (23.0)\n",
      "Requirement already satisfied: pillow>=6.2.0 in c:\\users\\compu fire\\appdata\\local\\programs\\python\\python311\\lib\\site-packages (from matplotlib!=3.6.1,>=3.1->seaborn) (9.5.0)\n",
      "Requirement already satisfied: pyparsing>=2.3.1 in c:\\users\\compu fire\\appdata\\local\\programs\\python\\python311\\lib\\site-packages (from matplotlib!=3.6.1,>=3.1->seaborn) (3.0.9)\n",
      "Requirement already satisfied: python-dateutil>=2.7 in c:\\users\\compu fire\\appdata\\local\\programs\\python\\python311\\lib\\site-packages (from matplotlib!=3.6.1,>=3.1->seaborn) (2.8.2)\n",
      "Requirement already satisfied: pytz>=2020.1 in c:\\users\\compu fire\\appdata\\local\\programs\\python\\python311\\lib\\site-packages (from pandas>=0.25->seaborn) (2023.3)\n",
      "Requirement already satisfied: tzdata>=2022.1 in c:\\users\\compu fire\\appdata\\local\\programs\\python\\python311\\lib\\site-packages (from pandas>=0.25->seaborn) (2023.3)\n",
      "Requirement already satisfied: six>=1.5 in c:\\users\\compu fire\\appdata\\local\\programs\\python\\python311\\lib\\site-packages (from python-dateutil>=2.7->matplotlib!=3.6.1,>=3.1->seaborn) (1.16.0)\n",
      "Installing collected packages: seaborn\n",
      "Successfully installed seaborn-0.12.2\n"
     ]
    },
    {
     "name": "stderr",
     "output_type": "stream",
     "text": [
      "\n",
      "[notice] A new release of pip available: 22.3.1 -> 23.0.1\n",
      "[notice] To update, run: python.exe -m pip install --upgrade pip\n"
     ]
    }
   ],
   "source": [
    "!pip install matplotlib\n",
    "!pip install matplotlib.pyplot\n",
    "!pip install seaborn"
   ]
  },
  {
   "cell_type": "markdown",
   "id": "c322e58b",
   "metadata": {},
   "source": [
    "### Import libraries and load the dataframe"
   ]
  },
  {
   "cell_type": "code",
   "execution_count": 15,
   "id": "b6f0ed82",
   "metadata": {},
   "outputs": [],
   "source": [
    "import pandas as pd\n",
    "import numpy as np\n",
    "import matplotlib as mpl\n",
    "import matplotlib.pyplot as plt\n",
    "import seaborn as sns\n",
    "import sklearn\n",
    "from sklearn.linear_model import LinearRegression\n",
    "from sklearn.metrics import r2_score"
   ]
  },
  {
   "cell_type": "code",
   "execution_count": 4,
   "id": "c8b08db0",
   "metadata": {},
   "outputs": [
    {
     "data": {
      "text/html": [
       "<div>\n",
       "<style scoped>\n",
       "    .dataframe tbody tr th:only-of-type {\n",
       "        vertical-align: middle;\n",
       "    }\n",
       "\n",
       "    .dataframe tbody tr th {\n",
       "        vertical-align: top;\n",
       "    }\n",
       "\n",
       "    .dataframe thead th {\n",
       "        text-align: right;\n",
       "    }\n",
       "</style>\n",
       "<table border=\"1\" class=\"dataframe\">\n",
       "  <thead>\n",
       "    <tr style=\"text-align: right;\">\n",
       "      <th></th>\n",
       "      <th>Unnamed: 0</th>\n",
       "      <th>ID</th>\n",
       "      <th>Name</th>\n",
       "      <th>Price</th>\n",
       "      <th>Pumps</th>\n",
       "      <th>Interior</th>\n",
       "      <th>Restaurant</th>\n",
       "      <th>CarWash</th>\n",
       "      <th>Highway</th>\n",
       "      <th>Intersection</th>\n",
       "      <th>Stoplight</th>\n",
       "      <th>IntersectionStoplight</th>\n",
       "      <th>Gasolines</th>\n",
       "      <th>Competitors</th>\n",
       "      <th>Zipcode</th>\n",
       "      <th>Address</th>\n",
       "      <th>Income</th>\n",
       "      <th>Brand</th>\n",
       "    </tr>\n",
       "  </thead>\n",
       "  <tbody>\n",
       "    <tr>\n",
       "      <th>0</th>\n",
       "      <td>1</td>\n",
       "      <td>1</td>\n",
       "      <td>Shell</td>\n",
       "      <td>1.79</td>\n",
       "      <td>4</td>\n",
       "      <td>Y</td>\n",
       "      <td>N</td>\n",
       "      <td>N</td>\n",
       "      <td>N</td>\n",
       "      <td>Y</td>\n",
       "      <td>N</td>\n",
       "      <td>Intersection</td>\n",
       "      <td>3</td>\n",
       "      <td>N</td>\n",
       "      <td>78705</td>\n",
       "      <td>3201 N Lamar Blvd</td>\n",
       "      <td>12786</td>\n",
       "      <td>Shell</td>\n",
       "    </tr>\n",
       "    <tr>\n",
       "      <th>1</th>\n",
       "      <td>2</td>\n",
       "      <td>2</td>\n",
       "      <td>Valero</td>\n",
       "      <td>1.83</td>\n",
       "      <td>4</td>\n",
       "      <td>Y</td>\n",
       "      <td>N</td>\n",
       "      <td>N</td>\n",
       "      <td>N</td>\n",
       "      <td>Y</td>\n",
       "      <td>N</td>\n",
       "      <td>Intersection</td>\n",
       "      <td>3</td>\n",
       "      <td>N</td>\n",
       "      <td>78705</td>\n",
       "      <td>3515 N Lamar Blvd</td>\n",
       "      <td>12786</td>\n",
       "      <td>Other</td>\n",
       "    </tr>\n",
       "    <tr>\n",
       "      <th>2</th>\n",
       "      <td>3</td>\n",
       "      <td>3</td>\n",
       "      <td>7-Eleven</td>\n",
       "      <td>1.88</td>\n",
       "      <td>4</td>\n",
       "      <td>Y</td>\n",
       "      <td>N</td>\n",
       "      <td>N</td>\n",
       "      <td>N</td>\n",
       "      <td>Y</td>\n",
       "      <td>Y</td>\n",
       "      <td>Both</td>\n",
       "      <td>3</td>\n",
       "      <td>Y</td>\n",
       "      <td>78751</td>\n",
       "      <td>5101 N Lamar Blvd</td>\n",
       "      <td>41279</td>\n",
       "      <td>Other</td>\n",
       "    </tr>\n",
       "    <tr>\n",
       "      <th>3</th>\n",
       "      <td>4</td>\n",
       "      <td>4</td>\n",
       "      <td>Texaco</td>\n",
       "      <td>1.88</td>\n",
       "      <td>4</td>\n",
       "      <td>Y</td>\n",
       "      <td>N</td>\n",
       "      <td>Y</td>\n",
       "      <td>N</td>\n",
       "      <td>Y</td>\n",
       "      <td>Y</td>\n",
       "      <td>Both</td>\n",
       "      <td>4</td>\n",
       "      <td>Y</td>\n",
       "      <td>78751</td>\n",
       "      <td>5301 N Lamar Blvd</td>\n",
       "      <td>41279</td>\n",
       "      <td>Chevron-Texaco</td>\n",
       "    </tr>\n",
       "    <tr>\n",
       "      <th>4</th>\n",
       "      <td>5</td>\n",
       "      <td>5</td>\n",
       "      <td>Shell</td>\n",
       "      <td>1.84</td>\n",
       "      <td>6</td>\n",
       "      <td>Y</td>\n",
       "      <td>N</td>\n",
       "      <td>N</td>\n",
       "      <td>N</td>\n",
       "      <td>Y</td>\n",
       "      <td>Y</td>\n",
       "      <td>Both</td>\n",
       "      <td>3</td>\n",
       "      <td>N</td>\n",
       "      <td>78751</td>\n",
       "      <td>5630 N Lamar Blvd</td>\n",
       "      <td>41279</td>\n",
       "      <td>Shell</td>\n",
       "    </tr>\n",
       "  </tbody>\n",
       "</table>\n",
       "</div>"
      ],
      "text/plain": [
       "   Unnamed: 0  ID      Name  Price  Pumps Interior Restaurant CarWash Highway   \n",
       "0           1   1     Shell   1.79      4        Y          N       N       N  \\\n",
       "1           2   2    Valero   1.83      4        Y          N       N       N   \n",
       "2           3   3  7-Eleven   1.88      4        Y          N       N       N   \n",
       "3           4   4    Texaco   1.88      4        Y          N       Y       N   \n",
       "4           5   5     Shell   1.84      6        Y          N       N       N   \n",
       "\n",
       "  Intersection Stoplight IntersectionStoplight  Gasolines Competitors   \n",
       "0            Y         N          Intersection          3           N  \\\n",
       "1            Y         N          Intersection          3           N   \n",
       "2            Y         Y                  Both          3           Y   \n",
       "3            Y         Y                  Both          4           Y   \n",
       "4            Y         Y                  Both          3           N   \n",
       "\n",
       "   Zipcode            Address  Income           Brand  \n",
       "0    78705  3201 N Lamar Blvd   12786           Shell  \n",
       "1    78705  3515 N Lamar Blvd   12786           Other  \n",
       "2    78751  5101 N Lamar Blvd   41279           Other  \n",
       "3    78751  5301 N Lamar Blvd   41279  Chevron-Texaco  \n",
       "4    78751  5630 N Lamar Blvd   41279           Shell  "
      ]
     },
     "execution_count": 4,
     "metadata": {},
     "output_type": "execute_result"
    }
   ],
   "source": [
    "df = pd.read_csv('Gasprices.csv')\n",
    "df.head()"
   ]
  },
  {
   "cell_type": "markdown",
   "id": "ffda512b",
   "metadata": {},
   "source": [
    "### Variables\n",
    "#### ID: Order in which gas stations were visited\n",
    "#### Name: Name of gas station\n",
    "#### Price: Price of regular unleaded gasoline, gathered on Sunday, April 3rd, 2016\n",
    "#### Highway: Is the gas station accessible from either a highway or a highway access road?\n",
    "#### Stoplight: Is there a stoplight in front of the gas station?\n",
    "#### Competitors: Are there any other gas stations in sight?\n",
    "#### Zipcode: ZIP code in which gas station is located\n",
    "#### Income: Median Household Income of the ZIP code where the gas station is located based on 2014 data from the U.S. Census Bureau\n",
    "#### Brand: ExxonMobil, ChevronTexaco, Shell, or Other"
   ]
  },
  {
   "cell_type": "markdown",
   "id": "25b6226d",
   "metadata": {},
   "source": [
    "### The theories\n",
    "#### People have a lot of theories about what explains the variation in prices between gas stations. Here are several such theories below. Which of these theories seem plausible, and which are unsupported by data?"
   ]
  },
  {
   "cell_type": "markdown",
   "id": "4307ece1",
   "metadata": {},
   "source": [
    "### 1. Gas stations charge more if they lack direct competition in sight (boxplot)."
   ]
  },
  {
   "cell_type": "code",
   "execution_count": 44,
   "id": "f3734575",
   "metadata": {},
   "outputs": [
    {
     "data": {
      "text/plain": [
       "<function matplotlib.pyplot.show(close=None, block=None)>"
      ]
     },
     "execution_count": 44,
     "metadata": {},
     "output_type": "execute_result"
    },
    {
     "data": {
      "image/png": "[encoded data removed]",
      "text/plain": [
       "<Figure size 640x480 with 1 Axes>"
      ]
     },
     "metadata": {},
     "output_type": "display_data"
    }
   ],
   "source": [
    "sns.boxplot(x= \"Competitors\", y= \"Price\", data= df, width=0.4, showmeans=True, meanprops= {\"marker\":\"o\"\n",
    "                                                                                          , \"markerfacecolor\":\"white\"\n",
    "                                                                                          , \"markersize\": \"8\"\n",
    "                                                                                          , \"markeredgecolor\": \"black\"}\n",
    "            ,palette= \"winter\")\n",
    "plt.show"
   ]
  },
  {
   "cell_type": "markdown",
   "id": "6c9b9662",
   "metadata": {},
   "source": [
    "### Convert the variable Competitors to a numerical variable using a dummy variable"
   ]
  },
  {
   "cell_type": "code",
   "execution_count": 5,
   "id": "0e3cadc8",
   "metadata": {},
   "outputs": [
    {
     "data": {
      "text/html": [
       "<div>\n",
       "<style scoped>\n",
       "    .dataframe tbody tr th:only-of-type {\n",
       "        vertical-align: middle;\n",
       "    }\n",
       "\n",
       "    .dataframe tbody tr th {\n",
       "        vertical-align: top;\n",
       "    }\n",
       "\n",
       "    .dataframe thead th {\n",
       "        text-align: right;\n",
       "    }\n",
       "</style>\n",
       "<table border=\"1\" class=\"dataframe\">\n",
       "  <thead>\n",
       "    <tr style=\"text-align: right;\">\n",
       "      <th></th>\n",
       "      <th>ID</th>\n",
       "      <th>Price</th>\n",
       "      <th>Y</th>\n",
       "    </tr>\n",
       "  </thead>\n",
       "  <tbody>\n",
       "    <tr>\n",
       "      <th>0</th>\n",
       "      <td>1</td>\n",
       "      <td>1.79</td>\n",
       "      <td>0</td>\n",
       "    </tr>\n",
       "    <tr>\n",
       "      <th>1</th>\n",
       "      <td>2</td>\n",
       "      <td>1.83</td>\n",
       "      <td>0</td>\n",
       "    </tr>\n",
       "    <tr>\n",
       "      <th>2</th>\n",
       "      <td>3</td>\n",
       "      <td>1.88</td>\n",
       "      <td>1</td>\n",
       "    </tr>\n",
       "    <tr>\n",
       "      <th>3</th>\n",
       "      <td>4</td>\n",
       "      <td>1.88</td>\n",
       "      <td>1</td>\n",
       "    </tr>\n",
       "    <tr>\n",
       "      <th>4</th>\n",
       "      <td>5</td>\n",
       "      <td>1.84</td>\n",
       "      <td>0</td>\n",
       "    </tr>\n",
       "    <tr>\n",
       "      <th>...</th>\n",
       "      <td>...</td>\n",
       "      <td>...</td>\n",
       "      <td>...</td>\n",
       "    </tr>\n",
       "    <tr>\n",
       "      <th>96</th>\n",
       "      <td>97</td>\n",
       "      <td>1.77</td>\n",
       "      <td>0</td>\n",
       "    </tr>\n",
       "    <tr>\n",
       "      <th>97</th>\n",
       "      <td>98</td>\n",
       "      <td>1.99</td>\n",
       "      <td>1</td>\n",
       "    </tr>\n",
       "    <tr>\n",
       "      <th>98</th>\n",
       "      <td>99</td>\n",
       "      <td>1.99</td>\n",
       "      <td>1</td>\n",
       "    </tr>\n",
       "    <tr>\n",
       "      <th>99</th>\n",
       "      <td>100</td>\n",
       "      <td>1.99</td>\n",
       "      <td>1</td>\n",
       "    </tr>\n",
       "    <tr>\n",
       "      <th>100</th>\n",
       "      <td>101</td>\n",
       "      <td>1.95</td>\n",
       "      <td>0</td>\n",
       "    </tr>\n",
       "  </tbody>\n",
       "</table>\n",
       "<p>101 rows × 3 columns</p>\n",
       "</div>"
      ],
      "text/plain": [
       "      ID  Price  Y\n",
       "0      1   1.79  0\n",
       "1      2   1.83  0\n",
       "2      3   1.88  1\n",
       "3      4   1.88  1\n",
       "4      5   1.84  0\n",
       "..   ...    ... ..\n",
       "96    97   1.77  0\n",
       "97    98   1.99  1\n",
       "98    99   1.99  1\n",
       "99   100   1.99  1\n",
       "100  101   1.95  0\n",
       "\n",
       "[101 rows x 3 columns]"
      ]
     },
     "execution_count": 5,
     "metadata": {},
     "output_type": "execute_result"
    }
   ],
   "source": [
    "df_competition = pd.get_dummies(df['Competitors'], dtype=int)\n",
    "df_competition = pd.concat([df, df_competition], axis = 1)\n",
    "df_competition.drop(df_competition.columns[[0,2,4,5,6,7,8,9,10,11,12,13,14,15,16,17,18]], axis=1, inplace=True)\n",
    "df_competition"
   ]
  },
  {
   "cell_type": "markdown",
   "id": "5aa79026",
   "metadata": {},
   "source": [
    "### Create the model"
   ]
  },
  {
   "cell_type": "code",
   "execution_count": 6,
   "id": "d5ac6f22",
   "metadata": {},
   "outputs": [],
   "source": [
    "lm_comp = LinearRegression()\n",
    "lm_comp\n",
    "X_comp = df_competition[['Y']]\n",
    "Y_comp = df_competition['Price']\n",
    "lm_comp.fit(X_comp,Y_comp)\n",
    "Yhat_comp=lm_comp.predict(X_comp)"
   ]
  },
  {
   "cell_type": "code",
   "execution_count": 7,
   "id": "ba49f39c",
   "metadata": {},
   "outputs": [
    {
     "data": {
      "text/plain": [
       "1.8758823529411766"
      ]
     },
     "execution_count": 7,
     "metadata": {},
     "output_type": "execute_result"
    }
   ],
   "source": [
    "c_comp = lm_comp.intercept_\n",
    "c_comp"
   ]
  },
  {
   "cell_type": "code",
   "execution_count": 8,
   "id": "d11d7f02",
   "metadata": {},
   "outputs": [
    {
     "data": {
      "text/plain": [
       "array([-0.02348235])"
      ]
     },
     "execution_count": 8,
     "metadata": {},
     "output_type": "execute_result"
    }
   ],
   "source": [
    "m_comp = lm_comp.coef_\n",
    "m_comp"
   ]
  },
  {
   "cell_type": "code",
   "execution_count": 9,
   "id": "92b7d9bc",
   "metadata": {},
   "outputs": [
    {
     "data": {
      "text/plain": [
       "array([1.87588235, 1.87588235, 1.8524    , 1.8524    , 1.87588235,\n",
       "       1.8524    , 1.8524    , 1.87588235, 1.87588235, 1.87588235,\n",
       "       1.87588235, 1.87588235, 1.87588235, 1.87588235, 1.87588235,\n",
       "       1.8524    , 1.8524    , 1.8524    , 1.8524    , 1.8524    ,\n",
       "       1.8524    , 1.8524    , 1.8524    , 1.87588235, 1.87588235,\n",
       "       1.8524    , 1.8524    , 1.87588235, 1.87588235, 1.87588235,\n",
       "       1.8524    , 1.8524    , 1.8524    , 1.8524    , 1.87588235,\n",
       "       1.8524    , 1.8524    , 1.8524    , 1.8524    , 1.8524    ,\n",
       "       1.8524    , 1.8524    , 1.8524    , 1.87588235, 1.8524    ,\n",
       "       1.8524    , 1.87588235, 1.87588235, 1.8524    , 1.8524    ,\n",
       "       1.87588235, 1.8524    , 1.8524    , 1.87588235, 1.87588235,\n",
       "       1.8524    , 1.8524    , 1.8524    , 1.8524    , 1.8524    ,\n",
       "       1.8524    , 1.87588235, 1.8524    , 1.8524    , 1.87588235,\n",
       "       1.87588235, 1.87588235, 1.87588235, 1.87588235, 1.87588235,\n",
       "       1.87588235, 1.8524    , 1.8524    , 1.87588235, 1.8524    ,\n",
       "       1.8524    , 1.87588235, 1.87588235, 1.8524    , 1.8524    ,\n",
       "       1.87588235, 1.87588235, 1.87588235, 1.87588235, 1.87588235,\n",
       "       1.87588235, 1.87588235, 1.8524    , 1.87588235, 1.87588235,\n",
       "       1.87588235, 1.87588235, 1.87588235, 1.87588235, 1.87588235,\n",
       "       1.87588235, 1.87588235, 1.8524    , 1.8524    , 1.8524    ,\n",
       "       1.87588235])"
      ]
     },
     "execution_count": 9,
     "metadata": {},
     "output_type": "execute_result"
    }
   ],
   "source": [
    "y_pred_comp = lm_comp.predict(X_comp)\n",
    "y_pred_comp"
   ]
  },
  {
   "cell_type": "markdown",
   "id": "0bc16263",
   "metadata": {},
   "source": [
    "### Calculate Elasticity"
   ]
  },
  {
   "cell_type": "code",
   "execution_count": 10,
   "id": "d8c63dfc",
   "metadata": {},
   "outputs": [
    {
     "data": {
      "text/plain": [
       "Y   -0.006236\n",
       "dtype: float64"
      ]
     },
     "execution_count": 10,
     "metadata": {},
     "output_type": "execute_result"
    }
   ],
   "source": [
    "comp_e = m_comp *X_comp.mean()/y_pred_comp.mean()\n",
    "comp_e"
   ]
  },
  {
   "cell_type": "code",
   "execution_count": 127,
   "id": "d0f16e06",
   "metadata": {},
   "outputs": [
    {
     "data": {
      "text/plain": [
       "0.020952078098767868"
      ]
     },
     "execution_count": 127,
     "metadata": {},
     "output_type": "execute_result"
    }
   ],
   "source": [
    "r2_comp = r2_score(Y_comp, y_pred_comp)\n",
    "r2_comp"
   ]
  },
  {
   "cell_type": "markdown",
   "id": "6ed70ec4",
   "metadata": {},
   "source": [
    "### 2.The richer the area, the higher the gas price (scatter plot). "
   ]
  },
  {
   "cell_type": "code",
   "execution_count": 40,
   "id": "29a9196c",
   "metadata": {},
   "outputs": [
    {
     "data": {
      "text/plain": [
       "<Axes: xlabel='Income', ylabel='Price'>"
      ]
     },
     "execution_count": 40,
     "metadata": {},
     "output_type": "execute_result"
    },
    {
     "data": {
      "image/png": "[encoded data removed]",
      "text/plain": [
       "<Figure size 640x480 with 1 Axes>"
      ]
     },
     "metadata": {},
     "output_type": "display_data"
    }
   ],
   "source": [
    "sns.regplot(data= df,x= \"Income\", y=\"Price\", line_kws=dict(color='yellow', linestyle='--')\n",
    "           ,scatter_kws=dict(s=10))\n",
    "plt.show"
   ]
  },
  {
   "cell_type": "markdown",
   "id": "9c164276",
   "metadata": {},
   "source": [
    "### Create the model"
   ]
  },
  {
   "cell_type": "code",
   "execution_count": 16,
   "id": "43f1ec8e",
   "metadata": {},
   "outputs": [],
   "source": [
    "lm_income = LinearRegression()\n",
    "lm_income\n",
    "X_income = df[['Income']]\n",
    "Y_income = df['Price']\n",
    "lm_income.fit(X_income,Y_income)\n",
    "Yhat_income=lm_income.predict(X_income)"
   ]
  },
  {
   "cell_type": "code",
   "execution_count": 17,
   "id": "ef50f7c1",
   "metadata": {},
   "outputs": [
    {
     "data": {
      "text/plain": [
       "1.7934424994161258"
      ]
     },
     "execution_count": 17,
     "metadata": {},
     "output_type": "execute_result"
    }
   ],
   "source": [
    "c_income = lm_income.intercept_\n",
    "c_income"
   ]
  },
  {
   "cell_type": "code",
   "execution_count": 18,
   "id": "f8feeb3a",
   "metadata": {},
   "outputs": [
    {
     "data": {
      "text/plain": [
       "array([0.01248341])"
      ]
     },
     "execution_count": 18,
     "metadata": {},
     "output_type": "execute_result"
    }
   ],
   "source": [
    "m_income = lm_income.coef_\n",
    "m_income*10000"
   ]
  },
  {
   "cell_type": "code",
   "execution_count": 21,
   "id": "b018a208",
   "metadata": {},
   "outputs": [
    {
     "data": {
      "text/plain": [
       "array([1.80940379, 1.80940379, 1.84497278, 1.84497278, 1.84497278,\n",
       "       1.84012547, 1.84012547, 1.84012547, 1.84012547, 1.84497278,\n",
       "       1.80940379, 1.80940379, 1.80940379, 1.90243018, 1.84049248,\n",
       "       1.86150955, 1.86150955, 1.84664056, 1.84664056, 1.86150955,\n",
       "       1.86150955, 1.84049248, 1.84049248, 1.83925413, 1.84049248,\n",
       "       1.83925413, 1.83925413, 1.84664056, 1.84664056, 1.84664056,\n",
       "       1.84664056, 1.84664056, 1.84664056, 1.84497278, 1.86150955,\n",
       "       1.86150955, 1.84497278, 1.90243018, 1.90243018, 1.90243018,\n",
       "       1.84049248, 1.84049248, 1.84049248, 1.84049248, 1.83238076,\n",
       "       1.83238076, 1.83238076, 1.83238076, 1.83238076, 1.83238076,\n",
       "       1.85873824, 1.84896373, 1.84896373, 1.84896373, 1.84896373,\n",
       "       1.86941155, 1.86941155, 1.86941155, 1.86941155, 1.86941155,\n",
       "       1.86941155, 1.87302425, 1.89245469, 1.89245469, 1.89245469,\n",
       "       1.95392426, 1.95392426, 1.95392426, 1.95392426, 1.95392426,\n",
       "       1.95392426, 1.85873824, 1.85873824, 1.85873824, 1.85873824,\n",
       "       1.85873824, 1.85873824, 1.85873824, 1.89568539, 1.89568539,\n",
       "       1.89568539, 1.89568539, 1.89568539, 1.87302425, 1.87302425,\n",
       "       1.87302425, 1.87302425, 1.89245469, 1.89245469, 1.89245469,\n",
       "       1.89245469, 1.88094498, 1.88094498, 1.88094498, 1.88094498,\n",
       "       1.88094498, 1.88094498, 1.84896373, 1.84896373, 1.84896373,\n",
       "       1.89568539])"
      ]
     },
     "execution_count": 21,
     "metadata": {},
     "output_type": "execute_result"
    }
   ],
   "source": [
    "y_pred_income = lm_income.predict(X_income)\n",
    "y_pred_income"
   ]
  },
  {
   "cell_type": "code",
   "execution_count": 22,
   "id": "fac78cef",
   "metadata": {},
   "outputs": [
    {
     "data": {
      "text/plain": [
       "Income    0.037986\n",
       "dtype: float64"
      ]
     },
     "execution_count": 22,
     "metadata": {},
     "output_type": "execute_result"
    }
   ],
   "source": [
    "income_e = m_income *X_income.mean()/y_pred_income.mean()\n",
    "income_e"
   ]
  },
  {
   "cell_type": "code",
   "execution_count": 128,
   "id": "922054af",
   "metadata": {},
   "outputs": [
    {
     "data": {
      "text/plain": [
       "0.15693850383428587"
      ]
     },
     "execution_count": 128,
     "metadata": {},
     "output_type": "execute_result"
    }
   ],
   "source": [
    "r2_income = r2_score(Y_income, y_pred_income)\n",
    "r2_income"
   ]
  },
  {
   "cell_type": "markdown",
   "id": "c40a5d43",
   "metadata": {},
   "source": [
    "### 3. Shell charges more than other brands (bar plot)."
   ]
  },
  {
   "cell_type": "code",
   "execution_count": 101,
   "id": "aba77d22",
   "metadata": {},
   "outputs": [
    {
     "data": {
      "text/plain": [
       "<function matplotlib.pyplot.show(close=None, block=None)>"
      ]
     },
     "execution_count": 101,
     "metadata": {},
     "output_type": "execute_result"
    },
    {
     "data": {
      "image/png": "[encoded data removed]",
      "text/plain": [
       "<Figure size 640x480 with 1 Axes>"
      ]
     },
     "metadata": {},
     "output_type": "display_data"
    }
   ],
   "source": [
    "ax = sns.barplot(data= df,x= \"Brand\", y=\"Price\", capsize=0.1, palette= 'winter', errorbar= None)\n",
    "ax.bar_label(ax.containers[0], fmt='{:.3}')\n",
    "plt.show"
   ]
  },
  {
   "cell_type": "markdown",
   "id": "f98db589",
   "metadata": {},
   "source": [
    "### Convert the variable Brand to a numerical variable using a dummy variable"
   ]
  },
  {
   "cell_type": "code",
   "execution_count": 23,
   "id": "0c2e4861",
   "metadata": {},
   "outputs": [
    {
     "data": {
      "text/html": [
       "<div>\n",
       "<style scoped>\n",
       "    .dataframe tbody tr th:only-of-type {\n",
       "        vertical-align: middle;\n",
       "    }\n",
       "\n",
       "    .dataframe tbody tr th {\n",
       "        vertical-align: top;\n",
       "    }\n",
       "\n",
       "    .dataframe thead th {\n",
       "        text-align: right;\n",
       "    }\n",
       "</style>\n",
       "<table border=\"1\" class=\"dataframe\">\n",
       "  <thead>\n",
       "    <tr style=\"text-align: right;\">\n",
       "      <th></th>\n",
       "      <th>ID</th>\n",
       "      <th>Price</th>\n",
       "      <th>Chevron-Texaco</th>\n",
       "      <th>ExxonMobil</th>\n",
       "      <th>Other</th>\n",
       "      <th>Shell</th>\n",
       "    </tr>\n",
       "  </thead>\n",
       "  <tbody>\n",
       "    <tr>\n",
       "      <th>0</th>\n",
       "      <td>1</td>\n",
       "      <td>1.79</td>\n",
       "      <td>0</td>\n",
       "      <td>0</td>\n",
       "      <td>0</td>\n",
       "      <td>1</td>\n",
       "    </tr>\n",
       "    <tr>\n",
       "      <th>1</th>\n",
       "      <td>2</td>\n",
       "      <td>1.83</td>\n",
       "      <td>0</td>\n",
       "      <td>0</td>\n",
       "      <td>1</td>\n",
       "      <td>0</td>\n",
       "    </tr>\n",
       "    <tr>\n",
       "      <th>2</th>\n",
       "      <td>3</td>\n",
       "      <td>1.88</td>\n",
       "      <td>0</td>\n",
       "      <td>0</td>\n",
       "      <td>1</td>\n",
       "      <td>0</td>\n",
       "    </tr>\n",
       "    <tr>\n",
       "      <th>3</th>\n",
       "      <td>4</td>\n",
       "      <td>1.88</td>\n",
       "      <td>1</td>\n",
       "      <td>0</td>\n",
       "      <td>0</td>\n",
       "      <td>0</td>\n",
       "    </tr>\n",
       "    <tr>\n",
       "      <th>4</th>\n",
       "      <td>5</td>\n",
       "      <td>1.84</td>\n",
       "      <td>0</td>\n",
       "      <td>0</td>\n",
       "      <td>0</td>\n",
       "      <td>1</td>\n",
       "    </tr>\n",
       "    <tr>\n",
       "      <th>...</th>\n",
       "      <td>...</td>\n",
       "      <td>...</td>\n",
       "      <td>...</td>\n",
       "      <td>...</td>\n",
       "      <td>...</td>\n",
       "      <td>...</td>\n",
       "    </tr>\n",
       "    <tr>\n",
       "      <th>96</th>\n",
       "      <td>97</td>\n",
       "      <td>1.77</td>\n",
       "      <td>0</td>\n",
       "      <td>0</td>\n",
       "      <td>1</td>\n",
       "      <td>0</td>\n",
       "    </tr>\n",
       "    <tr>\n",
       "      <th>97</th>\n",
       "      <td>98</td>\n",
       "      <td>1.99</td>\n",
       "      <td>1</td>\n",
       "      <td>0</td>\n",
       "      <td>0</td>\n",
       "      <td>0</td>\n",
       "    </tr>\n",
       "    <tr>\n",
       "      <th>98</th>\n",
       "      <td>99</td>\n",
       "      <td>1.99</td>\n",
       "      <td>0</td>\n",
       "      <td>0</td>\n",
       "      <td>0</td>\n",
       "      <td>1</td>\n",
       "    </tr>\n",
       "    <tr>\n",
       "      <th>99</th>\n",
       "      <td>100</td>\n",
       "      <td>1.99</td>\n",
       "      <td>0</td>\n",
       "      <td>0</td>\n",
       "      <td>1</td>\n",
       "      <td>0</td>\n",
       "    </tr>\n",
       "    <tr>\n",
       "      <th>100</th>\n",
       "      <td>101</td>\n",
       "      <td>1.95</td>\n",
       "      <td>0</td>\n",
       "      <td>0</td>\n",
       "      <td>1</td>\n",
       "      <td>0</td>\n",
       "    </tr>\n",
       "  </tbody>\n",
       "</table>\n",
       "<p>101 rows × 6 columns</p>\n",
       "</div>"
      ],
      "text/plain": [
       "      ID  Price  Chevron-Texaco  ExxonMobil  Other  Shell\n",
       "0      1   1.79               0           0      0      1\n",
       "1      2   1.83               0           0      1      0\n",
       "2      3   1.88               0           0      1      0\n",
       "3      4   1.88               1           0      0      0\n",
       "4      5   1.84               0           0      0      1\n",
       "..   ...    ...             ...         ...    ...    ...\n",
       "96    97   1.77               0           0      1      0\n",
       "97    98   1.99               1           0      0      0\n",
       "98    99   1.99               0           0      0      1\n",
       "99   100   1.99               0           0      1      0\n",
       "100  101   1.95               0           0      1      0\n",
       "\n",
       "[101 rows x 6 columns]"
      ]
     },
     "execution_count": 23,
     "metadata": {},
     "output_type": "execute_result"
    }
   ],
   "source": [
    "df_brand = pd.get_dummies(df['Brand'], dtype=int)\n",
    "df_brand = pd.concat([df, df_brand], axis = 1)\n",
    "df_brand.drop(df_brand.columns[[0,2,4,5,6,7,8,9,10,11,12,13,14,15,16,17]], axis=1, inplace=True)\n",
    "df_brand"
   ]
  },
  {
   "cell_type": "markdown",
   "id": "c760ccf8",
   "metadata": {},
   "source": [
    "### Create the model"
   ]
  },
  {
   "cell_type": "code",
   "execution_count": 24,
   "id": "62a94bd4",
   "metadata": {},
   "outputs": [],
   "source": [
    "lm_brand = LinearRegression()\n",
    "lm_brand\n",
    "X_brand = df_brand[['Chevron-Texaco', 'ExxonMobil', 'Other']]\n",
    "Y_brand = df_brand['Price']\n",
    "lm_brand.fit(X_brand,Y_brand)\n",
    "Yhat_brand=lm_brand.predict(X_brand)"
   ]
  },
  {
   "cell_type": "code",
   "execution_count": 25,
   "id": "1b065e0d",
   "metadata": {},
   "outputs": [
    {
     "data": {
      "text/plain": [
       "array([1.8837931 , 1.84571429, 1.84571429, 1.884375  , 1.8837931 ,\n",
       "       1.8837931 , 1.84571429, 1.84571429, 1.8837931 , 1.84571429,\n",
       "       1.884375  , 1.84571429, 1.8837931 , 1.84571429, 1.8837931 ,\n",
       "       1.8837931 , 1.8837931 , 1.84571429, 1.85642857, 1.84571429,\n",
       "       1.84571429, 1.84571429, 1.84571429, 1.84571429, 1.84571429,\n",
       "       1.85642857, 1.8837931 , 1.85642857, 1.85642857, 1.84571429,\n",
       "       1.84571429, 1.8837931 , 1.84571429, 1.85642857, 1.84571429,\n",
       "       1.884375  , 1.8837931 , 1.8837931 , 1.84571429, 1.8837931 ,\n",
       "       1.884375  , 1.84571429, 1.8837931 , 1.84571429, 1.884375  ,\n",
       "       1.84571429, 1.85642857, 1.8837931 , 1.84571429, 1.84571429,\n",
       "       1.884375  , 1.84571429, 1.84571429, 1.85642857, 1.85642857,\n",
       "       1.84571429, 1.8837931 , 1.884375  , 1.84571429, 1.84571429,\n",
       "       1.884375  , 1.8837931 , 1.8837931 , 1.884375  , 1.85642857,\n",
       "       1.8837931 , 1.884375  , 1.8837931 , 1.8837931 , 1.884375  ,\n",
       "       1.8837931 , 1.84571429, 1.84571429, 1.8837931 , 1.85642857,\n",
       "       1.85642857, 1.84571429, 1.84571429, 1.884375  , 1.84571429,\n",
       "       1.84571429, 1.884375  , 1.8837931 , 1.8837931 , 1.85642857,\n",
       "       1.8837931 , 1.84571429, 1.85642857, 1.884375  , 1.884375  ,\n",
       "       1.8837931 , 1.84571429, 1.84571429, 1.8837931 , 1.85642857,\n",
       "       1.84571429, 1.84571429, 1.884375  , 1.8837931 , 1.84571429,\n",
       "       1.84571429])"
      ]
     },
     "execution_count": 25,
     "metadata": {},
     "output_type": "execute_result"
    }
   ],
   "source": [
    "y_pred_brand = lm_brand.predict(X_brand)\n",
    "y_pred_brand"
   ]
  },
  {
   "cell_type": "code",
   "execution_count": 26,
   "id": "ae0736a0",
   "metadata": {},
   "outputs": [
    {
     "data": {
      "text/plain": [
       "1.883793103448276"
      ]
     },
     "execution_count": 26,
     "metadata": {},
     "output_type": "execute_result"
    }
   ],
   "source": [
    "c_brand = lm_brand.intercept_\n",
    "c_brand"
   ]
  },
  {
   "cell_type": "code",
   "execution_count": 27,
   "id": "d4f6d516",
   "metadata": {},
   "outputs": [
    {
     "data": {
      "text/plain": [
       "array([ 0.0005819 , -0.02736453, -0.03807882])"
      ]
     },
     "execution_count": 27,
     "metadata": {},
     "output_type": "execute_result"
    }
   ],
   "source": [
    "m_brand = lm_brand.coef_\n",
    "m_brand"
   ]
  },
  {
   "cell_type": "code",
   "execution_count": 28,
   "id": "7d7ad962",
   "metadata": {},
   "outputs": [
    {
     "data": {
      "text/plain": [
       "Chevron-Texaco    0.000049\n",
       "ExxonMobil       -0.002035\n",
       "Other            -0.008494\n",
       "dtype: float64"
      ]
     },
     "execution_count": 28,
     "metadata": {},
     "output_type": "execute_result"
    }
   ],
   "source": [
    "brand_e = m_brand *X_brand.mean()/Y_brand.mean()\n",
    "brand_e"
   ]
  },
  {
   "cell_type": "code",
   "execution_count": 29,
   "id": "35a376eb",
   "metadata": {},
   "outputs": [
    {
     "data": {
      "text/plain": [
       "0.0494271111809671"
      ]
     },
     "execution_count": 29,
     "metadata": {},
     "output_type": "execute_result"
    }
   ],
   "source": [
    "r2_brand = r2_score(Y_brand, y_pred_brand)\n",
    "r2_brand"
   ]
  },
  {
   "cell_type": "markdown",
   "id": "50fe322c",
   "metadata": {},
   "source": [
    "### 4. Gas stations at stoplights charge more (faceted histogram)."
   ]
  },
  {
   "cell_type": "code",
   "execution_count": 98,
   "id": "712ca355",
   "metadata": {},
   "outputs": [
    {
     "data": {
      "text/plain": [
       "<function matplotlib.pyplot.show(close=None, block=None)>"
      ]
     },
     "execution_count": 98,
     "metadata": {},
     "output_type": "execute_result"
    },
    {
     "data": {
      "image/png": "[encoded data removed]",
      "text/plain": [
       "<Figure size 1000x500 with 2 Axes>"
      ]
     },
     "metadata": {},
     "output_type": "display_data"
    }
   ],
   "source": [
    "sns.displot(data= df, x=\"Price\", col=\"Stoplight\", facet_kws=dict(margin_titles=True), kde= True)\n",
    "plt.show"
   ]
  },
  {
   "cell_type": "markdown",
   "id": "df9e0fdf",
   "metadata": {},
   "source": [
    "### Convert the variable Stoplight to a numerical variable using a dummy variable"
   ]
  },
  {
   "cell_type": "code",
   "execution_count": 167,
   "id": "5907d9ed",
   "metadata": {},
   "outputs": [
    {
     "data": {
      "text/html": [
       "<div>\n",
       "<style scoped>\n",
       "    .dataframe tbody tr th:only-of-type {\n",
       "        vertical-align: middle;\n",
       "    }\n",
       "\n",
       "    .dataframe tbody tr th {\n",
       "        vertical-align: top;\n",
       "    }\n",
       "\n",
       "    .dataframe thead th {\n",
       "        text-align: right;\n",
       "    }\n",
       "</style>\n",
       "<table border=\"1\" class=\"dataframe\">\n",
       "  <thead>\n",
       "    <tr style=\"text-align: right;\">\n",
       "      <th></th>\n",
       "      <th>ID</th>\n",
       "      <th>Price</th>\n",
       "      <th>Y</th>\n",
       "    </tr>\n",
       "  </thead>\n",
       "  <tbody>\n",
       "    <tr>\n",
       "      <th>0</th>\n",
       "      <td>1</td>\n",
       "      <td>1.79</td>\n",
       "      <td>0</td>\n",
       "    </tr>\n",
       "    <tr>\n",
       "      <th>1</th>\n",
       "      <td>2</td>\n",
       "      <td>1.83</td>\n",
       "      <td>0</td>\n",
       "    </tr>\n",
       "    <tr>\n",
       "      <th>2</th>\n",
       "      <td>3</td>\n",
       "      <td>1.88</td>\n",
       "      <td>1</td>\n",
       "    </tr>\n",
       "    <tr>\n",
       "      <th>3</th>\n",
       "      <td>4</td>\n",
       "      <td>1.88</td>\n",
       "      <td>1</td>\n",
       "    </tr>\n",
       "    <tr>\n",
       "      <th>4</th>\n",
       "      <td>5</td>\n",
       "      <td>1.84</td>\n",
       "      <td>1</td>\n",
       "    </tr>\n",
       "    <tr>\n",
       "      <th>...</th>\n",
       "      <td>...</td>\n",
       "      <td>...</td>\n",
       "      <td>...</td>\n",
       "    </tr>\n",
       "    <tr>\n",
       "      <th>96</th>\n",
       "      <td>97</td>\n",
       "      <td>1.77</td>\n",
       "      <td>1</td>\n",
       "    </tr>\n",
       "    <tr>\n",
       "      <th>97</th>\n",
       "      <td>98</td>\n",
       "      <td>1.99</td>\n",
       "      <td>1</td>\n",
       "    </tr>\n",
       "    <tr>\n",
       "      <th>98</th>\n",
       "      <td>99</td>\n",
       "      <td>1.99</td>\n",
       "      <td>1</td>\n",
       "    </tr>\n",
       "    <tr>\n",
       "      <th>99</th>\n",
       "      <td>100</td>\n",
       "      <td>1.99</td>\n",
       "      <td>1</td>\n",
       "    </tr>\n",
       "    <tr>\n",
       "      <th>100</th>\n",
       "      <td>101</td>\n",
       "      <td>1.95</td>\n",
       "      <td>1</td>\n",
       "    </tr>\n",
       "  </tbody>\n",
       "</table>\n",
       "<p>101 rows × 3 columns</p>\n",
       "</div>"
      ],
      "text/plain": [
       "      ID  Price  Y\n",
       "0      1   1.79  0\n",
       "1      2   1.83  0\n",
       "2      3   1.88  1\n",
       "3      4   1.88  1\n",
       "4      5   1.84  1\n",
       "..   ...    ... ..\n",
       "96    97   1.77  1\n",
       "97    98   1.99  1\n",
       "98    99   1.99  1\n",
       "99   100   1.99  1\n",
       "100  101   1.95  1\n",
       "\n",
       "[101 rows x 3 columns]"
      ]
     },
     "execution_count": 167,
     "metadata": {},
     "output_type": "execute_result"
    }
   ],
   "source": [
    "df_light = pd.get_dummies(df['Stoplight'], dtype=int)\n",
    "df_light = pd.concat([df, df_light], axis = 1)\n",
    "df_light.drop(df_light.columns[[0,2,4,5,6,7,8,9,10,11,12,13,14,15,16,17,18]], axis=1, inplace=True)\n",
    "df_light"
   ]
  },
  {
   "cell_type": "markdown",
   "id": "567178ae",
   "metadata": {},
   "source": [
    "### Create the model"
   ]
  },
  {
   "cell_type": "code",
   "execution_count": 112,
   "id": "240b04e7",
   "metadata": {},
   "outputs": [],
   "source": [
    "lm_light = LinearRegression()\n",
    "lm_light\n",
    "X_light = df_light[['Y']]\n",
    "Y_light = df_light['Price']\n",
    "lm_light.fit(X_light,Y_light)\n",
    "Yhat_light=lm_light.predict(X_light)"
   ]
  },
  {
   "cell_type": "code",
   "execution_count": 132,
   "id": "82f61e51",
   "metadata": {},
   "outputs": [
    {
     "data": {
      "text/plain": [
       "array([1.86631579, 1.86631579, 1.86301587, 1.86301587, 1.86301587,\n",
       "       1.86631579, 1.86631579, 1.86301587, 1.86631579, 1.86631579,\n",
       "       1.86301587, 1.86301587, 1.86301587, 1.86301587, 1.86301587,\n",
       "       1.86301587, 1.86301587, 1.86631579, 1.86301587, 1.86301587,\n",
       "       1.86301587, 1.86301587, 1.86631579, 1.86631579, 1.86301587,\n",
       "       1.86301587, 1.86301587, 1.86301587, 1.86301587, 1.86301587,\n",
       "       1.86631579, 1.86631579, 1.86301587, 1.86301587, 1.86631579,\n",
       "       1.86301587, 1.86301587, 1.86631579, 1.86301587, 1.86301587,\n",
       "       1.86301587, 1.86631579, 1.86631579, 1.86301587, 1.86301587,\n",
       "       1.86301587, 1.86301587, 1.86301587, 1.86301587, 1.86301587,\n",
       "       1.86301587, 1.86301587, 1.86301587, 1.86631579, 1.86301587,\n",
       "       1.86631579, 1.86301587, 1.86301587, 1.86631579, 1.86631579,\n",
       "       1.86301587, 1.86301587, 1.86301587, 1.86301587, 1.86301587,\n",
       "       1.86631579, 1.86301587, 1.86631579, 1.86301587, 1.86631579,\n",
       "       1.86631579, 1.86301587, 1.86301587, 1.86631579, 1.86631579,\n",
       "       1.86301587, 1.86631579, 1.86631579, 1.86631579, 1.86631579,\n",
       "       1.86631579, 1.86301587, 1.86301587, 1.86631579, 1.86301587,\n",
       "       1.86301587, 1.86631579, 1.86631579, 1.86301587, 1.86631579,\n",
       "       1.86631579, 1.86301587, 1.86631579, 1.86631579, 1.86301587,\n",
       "       1.86631579, 1.86301587, 1.86301587, 1.86301587, 1.86301587,\n",
       "       1.86301587])"
      ]
     },
     "execution_count": 132,
     "metadata": {},
     "output_type": "execute_result"
    }
   ],
   "source": [
    "y_pred_light = lm_light.predict(X_light)\n",
    "y_pred_light"
   ]
  },
  {
   "cell_type": "code",
   "execution_count": 113,
   "id": "ed7f0728",
   "metadata": {},
   "outputs": [
    {
     "data": {
      "text/plain": [
       "1.8663157894736844"
      ]
     },
     "execution_count": 113,
     "metadata": {},
     "output_type": "execute_result"
    }
   ],
   "source": [
    "c_light = lm_light.intercept_\n",
    "c_light"
   ]
  },
  {
   "cell_type": "code",
   "execution_count": 114,
   "id": "a1e61462",
   "metadata": {},
   "outputs": [
    {
     "data": {
      "text/plain": [
       "array([-0.00329992])"
      ]
     },
     "execution_count": 114,
     "metadata": {},
     "output_type": "execute_result"
    }
   ],
   "source": [
    "m_light = lm_light.coef_\n",
    "m_light"
   ]
  },
  {
   "cell_type": "code",
   "execution_count": 115,
   "id": "2957481c",
   "metadata": {},
   "outputs": [
    {
     "data": {
      "text/plain": [
       "Y   -0.001104\n",
       "dtype: float64"
      ]
     },
     "execution_count": 115,
     "metadata": {},
     "output_type": "execute_result"
    }
   ],
   "source": [
    "light_e = m_light *X_light.mean()/Y_light.mean()\n",
    "light_e"
   ]
  },
  {
   "cell_type": "code",
   "execution_count": 133,
   "id": "f4618f74",
   "metadata": {},
   "outputs": [
    {
     "data": {
      "text/plain": [
       "0.00038844875858223826"
      ]
     },
     "execution_count": 133,
     "metadata": {},
     "output_type": "execute_result"
    }
   ],
   "source": [
    "r2_light = r2_score(Y_light, y_pred_light)\n",
    "r2_light"
   ]
  },
  {
   "cell_type": "markdown",
   "id": "cfea0033",
   "metadata": {},
   "source": [
    "### 5. Gas stations with direct highway access charge more (your choice of plot). "
   ]
  },
  {
   "cell_type": "code",
   "execution_count": 116,
   "id": "ace8a22d",
   "metadata": {},
   "outputs": [
    {
     "data": {
      "text/plain": [
       "<function matplotlib.pyplot.show(close=None, block=None)>"
      ]
     },
     "execution_count": 116,
     "metadata": {},
     "output_type": "execute_result"
    },
    {
     "data": {
      "image/png": "[encoded data removed]",
      "text/plain": [
       "<Figure size 640x480 with 1 Axes>"
      ]
     },
     "metadata": {},
     "output_type": "display_data"
    }
   ],
   "source": [
    "sns.boxplot(x= \"Highway\", y= \"Price\", data= df, width=0.4, showmeans=True, meanprops= {\"marker\":\"o\"\n",
    "                                                                                          , \"markerfacecolor\":\"white\"\n",
    "                                                                                          , \"markersize\": \"8\"\n",
    "                                                                                          , \"markeredgecolor\": \"black\"}\n",
    "            ,palette= \"winter\")\n",
    "plt.show"
   ]
  },
  {
   "cell_type": "markdown",
   "id": "0124b93c",
   "metadata": {},
   "source": [
    "### Convert the variable Highway to a numerical variable using a dummy variable"
   ]
  },
  {
   "cell_type": "code",
   "execution_count": 168,
   "id": "cc591246",
   "metadata": {},
   "outputs": [
    {
     "data": {
      "text/html": [
       "<div>\n",
       "<style scoped>\n",
       "    .dataframe tbody tr th:only-of-type {\n",
       "        vertical-align: middle;\n",
       "    }\n",
       "\n",
       "    .dataframe tbody tr th {\n",
       "        vertical-align: top;\n",
       "    }\n",
       "\n",
       "    .dataframe thead th {\n",
       "        text-align: right;\n",
       "    }\n",
       "</style>\n",
       "<table border=\"1\" class=\"dataframe\">\n",
       "  <thead>\n",
       "    <tr style=\"text-align: right;\">\n",
       "      <th></th>\n",
       "      <th>ID</th>\n",
       "      <th>Price</th>\n",
       "      <th>Y</th>\n",
       "    </tr>\n",
       "  </thead>\n",
       "  <tbody>\n",
       "    <tr>\n",
       "      <th>0</th>\n",
       "      <td>1</td>\n",
       "      <td>1.79</td>\n",
       "      <td>0</td>\n",
       "    </tr>\n",
       "    <tr>\n",
       "      <th>1</th>\n",
       "      <td>2</td>\n",
       "      <td>1.83</td>\n",
       "      <td>0</td>\n",
       "    </tr>\n",
       "    <tr>\n",
       "      <th>2</th>\n",
       "      <td>3</td>\n",
       "      <td>1.88</td>\n",
       "      <td>0</td>\n",
       "    </tr>\n",
       "    <tr>\n",
       "      <th>3</th>\n",
       "      <td>4</td>\n",
       "      <td>1.88</td>\n",
       "      <td>0</td>\n",
       "    </tr>\n",
       "    <tr>\n",
       "      <th>4</th>\n",
       "      <td>5</td>\n",
       "      <td>1.84</td>\n",
       "      <td>0</td>\n",
       "    </tr>\n",
       "    <tr>\n",
       "      <th>...</th>\n",
       "      <td>...</td>\n",
       "      <td>...</td>\n",
       "      <td>...</td>\n",
       "    </tr>\n",
       "    <tr>\n",
       "      <th>96</th>\n",
       "      <td>97</td>\n",
       "      <td>1.77</td>\n",
       "      <td>0</td>\n",
       "    </tr>\n",
       "    <tr>\n",
       "      <th>97</th>\n",
       "      <td>98</td>\n",
       "      <td>1.99</td>\n",
       "      <td>1</td>\n",
       "    </tr>\n",
       "    <tr>\n",
       "      <th>98</th>\n",
       "      <td>99</td>\n",
       "      <td>1.99</td>\n",
       "      <td>1</td>\n",
       "    </tr>\n",
       "    <tr>\n",
       "      <th>99</th>\n",
       "      <td>100</td>\n",
       "      <td>1.99</td>\n",
       "      <td>1</td>\n",
       "    </tr>\n",
       "    <tr>\n",
       "      <th>100</th>\n",
       "      <td>101</td>\n",
       "      <td>1.95</td>\n",
       "      <td>0</td>\n",
       "    </tr>\n",
       "  </tbody>\n",
       "</table>\n",
       "<p>101 rows × 3 columns</p>\n",
       "</div>"
      ],
      "text/plain": [
       "      ID  Price  Y\n",
       "0      1   1.79  0\n",
       "1      2   1.83  0\n",
       "2      3   1.88  0\n",
       "3      4   1.88  0\n",
       "4      5   1.84  0\n",
       "..   ...    ... ..\n",
       "96    97   1.77  0\n",
       "97    98   1.99  1\n",
       "98    99   1.99  1\n",
       "99   100   1.99  1\n",
       "100  101   1.95  0\n",
       "\n",
       "[101 rows x 3 columns]"
      ]
     },
     "execution_count": 168,
     "metadata": {},
     "output_type": "execute_result"
    }
   ],
   "source": [
    "df_highway = pd.get_dummies(df['Highway'], dtype=int)\n",
    "df_highway = pd.concat([df, df_highway], axis = 1)\n",
    "df_highway.drop(df_highway.columns[[0,2,4,5,6,7,8,9,10,11,12,13,14,15,16,17,18]], axis=1, inplace=True)\n",
    "df_highway"
   ]
  },
  {
   "cell_type": "markdown",
   "id": "89b2a896",
   "metadata": {},
   "source": [
    "### Create the model"
   ]
  },
  {
   "cell_type": "code",
   "execution_count": 119,
   "id": "32576b52",
   "metadata": {},
   "outputs": [],
   "source": [
    "lm_highway = LinearRegression()\n",
    "lm_highway\n",
    "X_highway = df_highway[['Y']]\n",
    "Y_highway = df_highway['Price']\n",
    "lm_highway.fit(X_highway,Y_highway)\n",
    "Yhat_highway=lm_highway.predict(X_highway)"
   ]
  },
  {
   "cell_type": "code",
   "execution_count": 134,
   "id": "ed974a28",
   "metadata": {},
   "outputs": [
    {
     "data": {
      "text/plain": [
       "array([1.8543038, 1.8543038, 1.8543038, 1.8543038, 1.8543038, 1.8543038,\n",
       "       1.8543038, 1.8543038, 1.8543038, 1.8543038, 1.8543038, 1.8543038,\n",
       "       1.8543038, 1.8543038, 1.8543038, 1.8543038, 1.8543038, 1.8543038,\n",
       "       1.8543038, 1.8543038, 1.8543038, 1.8543038, 1.8543038, 1.8543038,\n",
       "       1.8543038, 1.9      , 1.9      , 1.9      , 1.8543038, 1.8543038,\n",
       "       1.8543038, 1.8543038, 1.8543038, 1.9      , 1.8543038, 1.9      ,\n",
       "       1.9      , 1.9      , 1.9      , 1.9      , 1.9      , 1.8543038,\n",
       "       1.8543038, 1.8543038, 1.8543038, 1.8543038, 1.8543038, 1.8543038,\n",
       "       1.8543038, 1.8543038, 1.8543038, 1.9      , 1.8543038, 1.8543038,\n",
       "       1.9      , 1.8543038, 1.8543038, 1.8543038, 1.8543038, 1.8543038,\n",
       "       1.8543038, 1.8543038, 1.9      , 1.9      , 1.8543038, 1.9      ,\n",
       "       1.8543038, 1.8543038, 1.8543038, 1.8543038, 1.9      , 1.8543038,\n",
       "       1.8543038, 1.8543038, 1.8543038, 1.8543038, 1.8543038, 1.8543038,\n",
       "       1.8543038, 1.8543038, 1.8543038, 1.8543038, 1.8543038, 1.8543038,\n",
       "       1.8543038, 1.8543038, 1.8543038, 1.8543038, 1.8543038, 1.8543038,\n",
       "       1.8543038, 1.8543038, 1.9      , 1.9      , 1.9      , 1.8543038,\n",
       "       1.8543038, 1.9      , 1.9      , 1.9      , 1.8543038])"
      ]
     },
     "execution_count": 134,
     "metadata": {},
     "output_type": "execute_result"
    }
   ],
   "source": [
    "y_pred_highway = lm_highway.predict(X_highway)\n",
    "y_pred_highway"
   ]
  },
  {
   "cell_type": "code",
   "execution_count": 120,
   "id": "995d24c1",
   "metadata": {},
   "outputs": [
    {
     "data": {
      "text/plain": [
       "1.8543037974683545"
      ]
     },
     "execution_count": 120,
     "metadata": {},
     "output_type": "execute_result"
    }
   ],
   "source": [
    "c_highway = lm_highway.intercept_\n",
    "c_highway"
   ]
  },
  {
   "cell_type": "code",
   "execution_count": 121,
   "id": "f0593558",
   "metadata": {},
   "outputs": [
    {
     "data": {
      "text/plain": [
       "array([0.0456962])"
      ]
     },
     "execution_count": 121,
     "metadata": {},
     "output_type": "execute_result"
    }
   ],
   "source": [
    "m_highway = lm_highway.coef_\n",
    "m_highway"
   ]
  },
  {
   "cell_type": "code",
   "execution_count": 122,
   "id": "6443fa35",
   "metadata": {},
   "outputs": [
    {
     "data": {
      "text/plain": [
       "Y    0.005339\n",
       "dtype: float64"
      ]
     },
     "execution_count": 122,
     "metadata": {},
     "output_type": "execute_result"
    }
   ],
   "source": [
    "highway_e = m_highway *X_highway.mean()/Y_light.mean()\n",
    "highway_e"
   ]
  },
  {
   "cell_type": "code",
   "execution_count": 135,
   "id": "1fd3f01d",
   "metadata": {},
   "outputs": [
    {
     "data": {
      "text/plain": [
       "0.054077137491742255"
      ]
     },
     "execution_count": 135,
     "metadata": {},
     "output_type": "execute_result"
    }
   ],
   "source": [
    "r2_highway = r2_score(Y_highway, y_pred_highway)\n",
    "r2_highway"
   ]
  },
  {
   "cell_type": "markdown",
   "id": "0bf86a61",
   "metadata": {},
   "source": [
    "### Combine all theories in one model"
   ]
  },
  {
   "cell_type": "code",
   "execution_count": 48,
   "id": "cbbeb194",
   "metadata": {},
   "outputs": [
    {
     "data": {
      "text/html": [
       "<div>\n",
       "<style scoped>\n",
       "    .dataframe tbody tr th:only-of-type {\n",
       "        vertical-align: middle;\n",
       "    }\n",
       "\n",
       "    .dataframe tbody tr th {\n",
       "        vertical-align: top;\n",
       "    }\n",
       "\n",
       "    .dataframe thead th {\n",
       "        text-align: right;\n",
       "    }\n",
       "</style>\n",
       "<table border=\"1\" class=\"dataframe\">\n",
       "  <thead>\n",
       "    <tr style=\"text-align: right;\">\n",
       "      <th></th>\n",
       "      <th>Unnamed: 0</th>\n",
       "      <th>ID</th>\n",
       "      <th>Name</th>\n",
       "      <th>Price</th>\n",
       "      <th>Pumps</th>\n",
       "      <th>Interior</th>\n",
       "      <th>Restaurant</th>\n",
       "      <th>CarWash</th>\n",
       "      <th>Highway</th>\n",
       "      <th>Intersection</th>\n",
       "      <th>...</th>\n",
       "      <th>N</th>\n",
       "      <th>CompY</th>\n",
       "      <th>N</th>\n",
       "      <th>HighwayY</th>\n",
       "      <th>N</th>\n",
       "      <th>LightY</th>\n",
       "      <th>Chevron-Texaco</th>\n",
       "      <th>ExxonMobil</th>\n",
       "      <th>Other</th>\n",
       "      <th>Shell</th>\n",
       "    </tr>\n",
       "  </thead>\n",
       "  <tbody>\n",
       "    <tr>\n",
       "      <th>0</th>\n",
       "      <td>1</td>\n",
       "      <td>1</td>\n",
       "      <td>Shell</td>\n",
       "      <td>1.79</td>\n",
       "      <td>4</td>\n",
       "      <td>Y</td>\n",
       "      <td>N</td>\n",
       "      <td>N</td>\n",
       "      <td>N</td>\n",
       "      <td>Y</td>\n",
       "      <td>...</td>\n",
       "      <td>1</td>\n",
       "      <td>0</td>\n",
       "      <td>1</td>\n",
       "      <td>0</td>\n",
       "      <td>1</td>\n",
       "      <td>0</td>\n",
       "      <td>0</td>\n",
       "      <td>0</td>\n",
       "      <td>0</td>\n",
       "      <td>1</td>\n",
       "    </tr>\n",
       "    <tr>\n",
       "      <th>1</th>\n",
       "      <td>2</td>\n",
       "      <td>2</td>\n",
       "      <td>Valero</td>\n",
       "      <td>1.83</td>\n",
       "      <td>4</td>\n",
       "      <td>Y</td>\n",
       "      <td>N</td>\n",
       "      <td>N</td>\n",
       "      <td>N</td>\n",
       "      <td>Y</td>\n",
       "      <td>...</td>\n",
       "      <td>1</td>\n",
       "      <td>0</td>\n",
       "      <td>1</td>\n",
       "      <td>0</td>\n",
       "      <td>1</td>\n",
       "      <td>0</td>\n",
       "      <td>0</td>\n",
       "      <td>0</td>\n",
       "      <td>1</td>\n",
       "      <td>0</td>\n",
       "    </tr>\n",
       "    <tr>\n",
       "      <th>2</th>\n",
       "      <td>3</td>\n",
       "      <td>3</td>\n",
       "      <td>7-Eleven</td>\n",
       "      <td>1.88</td>\n",
       "      <td>4</td>\n",
       "      <td>Y</td>\n",
       "      <td>N</td>\n",
       "      <td>N</td>\n",
       "      <td>N</td>\n",
       "      <td>Y</td>\n",
       "      <td>...</td>\n",
       "      <td>0</td>\n",
       "      <td>1</td>\n",
       "      <td>1</td>\n",
       "      <td>0</td>\n",
       "      <td>0</td>\n",
       "      <td>1</td>\n",
       "      <td>0</td>\n",
       "      <td>0</td>\n",
       "      <td>1</td>\n",
       "      <td>0</td>\n",
       "    </tr>\n",
       "    <tr>\n",
       "      <th>3</th>\n",
       "      <td>4</td>\n",
       "      <td>4</td>\n",
       "      <td>Texaco</td>\n",
       "      <td>1.88</td>\n",
       "      <td>4</td>\n",
       "      <td>Y</td>\n",
       "      <td>N</td>\n",
       "      <td>Y</td>\n",
       "      <td>N</td>\n",
       "      <td>Y</td>\n",
       "      <td>...</td>\n",
       "      <td>0</td>\n",
       "      <td>1</td>\n",
       "      <td>1</td>\n",
       "      <td>0</td>\n",
       "      <td>0</td>\n",
       "      <td>1</td>\n",
       "      <td>1</td>\n",
       "      <td>0</td>\n",
       "      <td>0</td>\n",
       "      <td>0</td>\n",
       "    </tr>\n",
       "    <tr>\n",
       "      <th>4</th>\n",
       "      <td>5</td>\n",
       "      <td>5</td>\n",
       "      <td>Shell</td>\n",
       "      <td>1.84</td>\n",
       "      <td>6</td>\n",
       "      <td>Y</td>\n",
       "      <td>N</td>\n",
       "      <td>N</td>\n",
       "      <td>N</td>\n",
       "      <td>Y</td>\n",
       "      <td>...</td>\n",
       "      <td>1</td>\n",
       "      <td>0</td>\n",
       "      <td>1</td>\n",
       "      <td>0</td>\n",
       "      <td>0</td>\n",
       "      <td>1</td>\n",
       "      <td>0</td>\n",
       "      <td>0</td>\n",
       "      <td>0</td>\n",
       "      <td>1</td>\n",
       "    </tr>\n",
       "    <tr>\n",
       "      <th>...</th>\n",
       "      <td>...</td>\n",
       "      <td>...</td>\n",
       "      <td>...</td>\n",
       "      <td>...</td>\n",
       "      <td>...</td>\n",
       "      <td>...</td>\n",
       "      <td>...</td>\n",
       "      <td>...</td>\n",
       "      <td>...</td>\n",
       "      <td>...</td>\n",
       "      <td>...</td>\n",
       "      <td>...</td>\n",
       "      <td>...</td>\n",
       "      <td>...</td>\n",
       "      <td>...</td>\n",
       "      <td>...</td>\n",
       "      <td>...</td>\n",
       "      <td>...</td>\n",
       "      <td>...</td>\n",
       "      <td>...</td>\n",
       "      <td>...</td>\n",
       "    </tr>\n",
       "    <tr>\n",
       "      <th>96</th>\n",
       "      <td>97</td>\n",
       "      <td>97</td>\n",
       "      <td>Valero</td>\n",
       "      <td>1.77</td>\n",
       "      <td>8</td>\n",
       "      <td>Y</td>\n",
       "      <td>N</td>\n",
       "      <td>Y</td>\n",
       "      <td>N</td>\n",
       "      <td>Y</td>\n",
       "      <td>...</td>\n",
       "      <td>1</td>\n",
       "      <td>0</td>\n",
       "      <td>1</td>\n",
       "      <td>0</td>\n",
       "      <td>0</td>\n",
       "      <td>1</td>\n",
       "      <td>0</td>\n",
       "      <td>0</td>\n",
       "      <td>1</td>\n",
       "      <td>0</td>\n",
       "    </tr>\n",
       "    <tr>\n",
       "      <th>97</th>\n",
       "      <td>98</td>\n",
       "      <td>98</td>\n",
       "      <td>Texaco</td>\n",
       "      <td>1.99</td>\n",
       "      <td>8</td>\n",
       "      <td>Y</td>\n",
       "      <td>N</td>\n",
       "      <td>N</td>\n",
       "      <td>Y</td>\n",
       "      <td>Y</td>\n",
       "      <td>...</td>\n",
       "      <td>0</td>\n",
       "      <td>1</td>\n",
       "      <td>0</td>\n",
       "      <td>1</td>\n",
       "      <td>0</td>\n",
       "      <td>1</td>\n",
       "      <td>1</td>\n",
       "      <td>0</td>\n",
       "      <td>0</td>\n",
       "      <td>0</td>\n",
       "    </tr>\n",
       "    <tr>\n",
       "      <th>98</th>\n",
       "      <td>99</td>\n",
       "      <td>99</td>\n",
       "      <td>Shell</td>\n",
       "      <td>1.99</td>\n",
       "      <td>6</td>\n",
       "      <td>Y</td>\n",
       "      <td>Y</td>\n",
       "      <td>N</td>\n",
       "      <td>Y</td>\n",
       "      <td>Y</td>\n",
       "      <td>...</td>\n",
       "      <td>0</td>\n",
       "      <td>1</td>\n",
       "      <td>0</td>\n",
       "      <td>1</td>\n",
       "      <td>0</td>\n",
       "      <td>1</td>\n",
       "      <td>0</td>\n",
       "      <td>0</td>\n",
       "      <td>0</td>\n",
       "      <td>1</td>\n",
       "    </tr>\n",
       "    <tr>\n",
       "      <th>99</th>\n",
       "      <td>100</td>\n",
       "      <td>100</td>\n",
       "      <td>Valero</td>\n",
       "      <td>1.99</td>\n",
       "      <td>8</td>\n",
       "      <td>Y</td>\n",
       "      <td>N</td>\n",
       "      <td>N</td>\n",
       "      <td>Y</td>\n",
       "      <td>Y</td>\n",
       "      <td>...</td>\n",
       "      <td>0</td>\n",
       "      <td>1</td>\n",
       "      <td>0</td>\n",
       "      <td>1</td>\n",
       "      <td>0</td>\n",
       "      <td>1</td>\n",
       "      <td>0</td>\n",
       "      <td>0</td>\n",
       "      <td>1</td>\n",
       "      <td>0</td>\n",
       "    </tr>\n",
       "    <tr>\n",
       "      <th>100</th>\n",
       "      <td>101</td>\n",
       "      <td>101</td>\n",
       "      <td>7-Eleven</td>\n",
       "      <td>1.95</td>\n",
       "      <td>4</td>\n",
       "      <td>Y</td>\n",
       "      <td>N</td>\n",
       "      <td>N</td>\n",
       "      <td>N</td>\n",
       "      <td>Y</td>\n",
       "      <td>...</td>\n",
       "      <td>1</td>\n",
       "      <td>0</td>\n",
       "      <td>1</td>\n",
       "      <td>0</td>\n",
       "      <td>0</td>\n",
       "      <td>1</td>\n",
       "      <td>0</td>\n",
       "      <td>0</td>\n",
       "      <td>1</td>\n",
       "      <td>0</td>\n",
       "    </tr>\n",
       "  </tbody>\n",
       "</table>\n",
       "<p>101 rows × 28 columns</p>\n",
       "</div>"
      ],
      "text/plain": [
       "     Unnamed: 0   ID      Name  Price  Pumps Interior Restaurant CarWash   \n",
       "0             1    1     Shell   1.79      4        Y          N       N  \\\n",
       "1             2    2    Valero   1.83      4        Y          N       N   \n",
       "2             3    3  7-Eleven   1.88      4        Y          N       N   \n",
       "3             4    4    Texaco   1.88      4        Y          N       Y   \n",
       "4             5    5     Shell   1.84      6        Y          N       N   \n",
       "..          ...  ...       ...    ...    ...      ...        ...     ...   \n",
       "96           97   97    Valero   1.77      8        Y          N       Y   \n",
       "97           98   98    Texaco   1.99      8        Y          N       N   \n",
       "98           99   99     Shell   1.99      6        Y          Y       N   \n",
       "99          100  100    Valero   1.99      8        Y          N       N   \n",
       "100         101  101  7-Eleven   1.95      4        Y          N       N   \n",
       "\n",
       "    Highway Intersection  ...  N CompY  N HighwayY  N LightY  Chevron-Texaco   \n",
       "0         N            Y  ...  1     0  1        0  1      0               0  \\\n",
       "1         N            Y  ...  1     0  1        0  1      0               0   \n",
       "2         N            Y  ...  0     1  1        0  0      1               0   \n",
       "3         N            Y  ...  0     1  1        0  0      1               1   \n",
       "4         N            Y  ...  1     0  1        0  0      1               0   \n",
       "..      ...          ...  ... ..   ... ..      ... ..    ...             ...   \n",
       "96        N            Y  ...  1     0  1        0  0      1               0   \n",
       "97        Y            Y  ...  0     1  0        1  0      1               1   \n",
       "98        Y            Y  ...  0     1  0        1  0      1               0   \n",
       "99        Y            Y  ...  0     1  0        1  0      1               0   \n",
       "100       N            Y  ...  1     0  1        0  0      1               0   \n",
       "\n",
       "    ExxonMobil  Other  Shell  \n",
       "0            0      0      1  \n",
       "1            0      1      0  \n",
       "2            0      1      0  \n",
       "3            0      0      0  \n",
       "4            0      0      1  \n",
       "..         ...    ...    ...  \n",
       "96           0      1      0  \n",
       "97           0      0      0  \n",
       "98           0      0      1  \n",
       "99           0      1      0  \n",
       "100          0      1      0  \n",
       "\n",
       "[101 rows x 28 columns]"
      ]
     },
     "execution_count": 48,
     "metadata": {},
     "output_type": "execute_result"
    }
   ],
   "source": [
    "df_model = pd.get_dummies(df['Highway'], dtype=int)\n",
    "df_model.rename(columns={'Y': 'HighwayY'}, inplace=True)\n",
    "df_model2 = pd.get_dummies(df['Stoplight'], dtype=int)\n",
    "df_model2.rename(columns={'Y': 'LightY'}, inplace=True)\n",
    "df_model3 = pd.concat([df_model, df_model2], axis = 1)\n",
    "df_model4 = pd.get_dummies(df['Brand'], dtype=int)\n",
    "df_model5 = pd.concat([df_model3, df_model4], axis = 1)\n",
    "df_model6 = pd.get_dummies(df['Competitors'], dtype=int)\n",
    "df_model6.rename(columns={'Y': 'CompY'}, inplace=True)\n",
    "df_model7 = pd.concat([df_model6, df_model5], axis = 1)\n",
    "df_model8 =pd.concat([df, df_model7], axis = 1)\n",
    "df_model = df_model8\n",
    "df_model"
   ]
  },
  {
   "cell_type": "code",
   "execution_count": 53,
   "id": "e2d323d3",
   "metadata": {},
   "outputs": [
    {
     "data": {
      "text/plain": [
       "0      1.2786\n",
       "1      1.2786\n",
       "2      4.1279\n",
       "3      4.1279\n",
       "4      4.1279\n",
       "        ...  \n",
       "96     7.0095\n",
       "97     4.4476\n",
       "98     4.4476\n",
       "99     4.4476\n",
       "100    8.1903\n",
       "Name: Income, Length: 101, dtype: float64"
      ]
     },
     "execution_count": 53,
     "metadata": {},
     "output_type": "execute_result"
    }
   ],
   "source": [
    "df_model['Income'] = df_model['Income']/10000\n",
    "df_model['Income']"
   ]
  },
  {
   "cell_type": "code",
   "execution_count": 54,
   "id": "79e05122",
   "metadata": {},
   "outputs": [],
   "source": [
    "lm_model = LinearRegression()\n",
    "lm_model\n",
    "X_model = df_model[['Chevron-Texaco', 'ExxonMobil', 'Other', 'HighwayY', 'LightY', 'CompY', 'Income']]\n",
    "Y_model = df_model['Price']\n",
    "lm_model.fit(X_model,Y_model)\n",
    "Yhat_model=lm_model.predict(X_model)"
   ]
  },
  {
   "cell_type": "code",
   "execution_count": 55,
   "id": "6d9f4d79",
   "metadata": {},
   "outputs": [
    {
     "data": {
      "text/plain": [
       "array([1.82759743, 1.81282033, 1.82512395, 1.84200926, 1.85874391,\n",
       "       1.83369111, 1.81891401, 1.84003228, 1.85253397, 1.84169138,\n",
       "       1.83198106, 1.81509575, 1.82987286, 1.8906045 , 1.85510729,\n",
       "       1.85332382, 1.85332382, 1.82420225, 1.82332059, 1.83854671,\n",
       "       1.83854671, 1.82148733, 1.81921191, 1.8370496 , 1.84033019,\n",
       "       1.85561997, 1.87355416, 1.88045834, 1.84216345, 1.84532053,\n",
       "       1.82420225, 1.83897936, 1.82647768, 1.86026176, 1.85511415,\n",
       "       1.89372691, 1.87819595, 1.92255822, 1.91005654, 1.92483364,\n",
       "       1.87666753, 1.81921191, 1.83398901, 1.84033019, 1.83178842,\n",
       "       1.81490311, 1.83058888, 1.84852307, 1.81490311, 1.81490311,\n",
       "       1.87202543, 1.86665826, 1.82836337, 1.84177372, 1.88234403,\n",
       "       1.84268528, 1.85973781, 1.86184601, 1.84268528, 1.84268528,\n",
       "       1.86184601, 1.88151306, 1.91673662, 1.91884482, 1.87935039,\n",
       "       1.98319839, 1.94928713, 1.9449035 , 1.94717893, 1.94701171,\n",
       "       1.98319839, 1.83629726, 1.83629726, 1.8676418 , 1.83086475,\n",
       "       1.83314018, 1.85286469, 1.85286469, 1.88089685, 1.86401154,\n",
       "       1.88285439, 1.90201513, 1.89990692, 1.87923764, 1.86357887,\n",
       "       1.88151306, 1.86446053, 1.85823211, 1.89939279, 1.89711736,\n",
       "       1.89500916, 1.87316514, 1.90918461, 1.92396172, 1.90830295,\n",
       "       1.87088972, 1.87316514, 1.88354357, 1.88143536, 1.86665826,\n",
       "       1.88512982])"
      ]
     },
     "execution_count": 55,
     "metadata": {},
     "output_type": "execute_result"
    }
   ],
   "source": [
    "y_pred_model = lm_model.predict(X_model)\n",
    "y_pred_model"
   ]
  },
  {
   "cell_type": "code",
   "execution_count": 56,
   "id": "20c7d01a",
   "metadata": {},
   "outputs": [
    {
     "data": {
      "text/plain": [
       "1.8146417865674118"
      ]
     },
     "execution_count": 56,
     "metadata": {},
     "output_type": "execute_result"
    }
   ],
   "source": [
    "c_model = lm_model.intercept_\n",
    "c_model"
   ]
  },
  {
   "cell_type": "code",
   "execution_count": 57,
   "id": "0d2a091d",
   "metadata": {},
   "outputs": [
    {
     "data": {
      "text/plain": [
       "array([ 0.0021082 , -0.01793419, -0.01477711,  0.03829489,  0.00227542,\n",
       "       -0.01884286,  0.01013268])"
      ]
     },
     "execution_count": 57,
     "metadata": {},
     "output_type": "execute_result"
    }
   ],
   "source": [
    "m_model = lm_model.coef_\n",
    "m_model"
   ]
  },
  {
   "cell_type": "code",
   "execution_count": 37,
   "id": "8a33d943",
   "metadata": {},
   "outputs": [
    {
     "data": {
      "text/plain": [
       "Chevron-Texaco    0.000179\n",
       "ExxonMobil       -0.001333\n",
       "Other            -0.003296\n",
       "HighwayY          0.004474\n",
       "LightY            0.000761\n",
       "CompY            -0.005004\n",
       "Income            0.030833\n",
       "dtype: float64"
      ]
     },
     "execution_count": 37,
     "metadata": {},
     "output_type": "execute_result"
    }
   ],
   "source": [
    "model_e = m_model *X_model.mean()/Y_model.mean()\n",
    "model_e"
   ]
  },
  {
   "cell_type": "code",
   "execution_count": 38,
   "id": "ec9d9c72",
   "metadata": {},
   "outputs": [
    {
     "data": {
      "text/plain": [
       "0.21054817202119824"
      ]
     },
     "execution_count": 38,
     "metadata": {},
     "output_type": "execute_result"
    }
   ],
   "source": [
    "r2_model = r2_score(Y_model, y_pred_model)\n",
    "r2_model"
   ]
  }
 ],
 "metadata": {
  "kernelspec": {
   "display_name": "Python 3 (ipykernel)",
   "language": "python",
   "name": "python3"
  },
  "language_info": {
   "codemirror_mode": {
    "name": "ipython",
    "version": 3
   },
   "file_extension": ".py",
   "mimetype": "text/x-python",
   "name": "python",
   "nbconvert_exporter": "python",
   "pygments_lexer": "ipython3",
   "version": "3.11.3"
  }
 },
 "nbformat": 4,
 "nbformat_minor": 5
}
